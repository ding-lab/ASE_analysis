{
 "cells": [
  {
   "cell_type": "code",
   "execution_count": 1,
   "id": "898c0f8a",
   "metadata": {},
   "outputs": [],
   "source": [
    "import pandas as pd\n",
    "import numpy as np\n",
    "import gzip"
   ]
  },
  {
   "cell_type": "code",
   "execution_count": 2,
   "id": "fce036e3",
   "metadata": {},
   "outputs": [],
   "source": [
    "file='/diskmnt/Projects/Users/nvterekhanova/Germline_analysis/DATA/MAF_files/CPTAC.PanCan1093.merged.AD5.noLongIndels.ROI.norm.sorted.vep100.gencode34.v\\\n",
    "cf.gz'"
   ]
  },
  {
   "cell_type": "code",
   "execution_count": 3,
   "id": "24869717",
   "metadata": {},
   "outputs": [],
   "source": [
    "output_file = open(\"out/All_germline_var_sites.20240103.test.tsv\", \"w\")"
   ]
  },
  {
   "cell_type": "code",
   "execution_count": 4,
   "id": "de3c0a85",
   "metadata": {},
   "outputs": [],
   "source": [
    "arr_ids=[]"
   ]
  },
  {
   "cell_type": "code",
   "execution_count": 5,
   "id": "b42aaad8",
   "metadata": {},
   "outputs": [],
   "source": [
    "for line in gzip.open(file,mode='rt'):\n",
    "    line=line.rstrip()\n",
    "    if not line.startswith(\"#CHROM\") and not line.startswith(\"chr\"):\n",
    "        continue\n",
    "    all_ids=[]\n",
    "    gts={}\n",
    "    if line.startswith(\"#CHROM\"):\n",
    "        arr_ids=line.split()\n",
    "    else:\n",
    "        arr_str=line.split()\n",
    "        for i in range(9, len(arr_str)):\n",
    "            if arr_str[i] == './.:.:.:.:.:.:.:.:.:.:.:.:.:.:.' :\n",
    "                continue\n",
    "            else:\n",
    "                arr_gts=[]\n",
    "                arr_gts=arr_str[i].split(':')\n",
    "                if arr_gts[0] != './.' :\n",
    "                    output_file.write(f\"{arr_str[0]}\\t{arr_str[1]}\\t{arr_str[3]}\\t{arr_str[4]}\\t{i}\\t{arr_ids[i]}\\t{arr_gts[0]}\\n\")\n",
    "output_file.close()            "
   ]
  },
  {
   "cell_type": "code",
   "execution_count": null,
   "id": "aa18f9d9",
   "metadata": {},
   "outputs": [],
   "source": []
  }
 ],
 "metadata": {
  "kernelspec": {
   "display_name": "Python 3 (ipykernel)",
   "language": "python",
   "name": "python3"
  },
  "language_info": {
   "codemirror_mode": {
    "name": "ipython",
    "version": 3
   },
   "file_extension": ".py",
   "mimetype": "text/x-python",
   "name": "python",
   "nbconvert_exporter": "python",
   "pygments_lexer": "ipython3",
   "version": "3.9.7"
  }
 },
 "nbformat": 4,
 "nbformat_minor": 5
}
